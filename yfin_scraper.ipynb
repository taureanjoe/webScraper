{
 "cells": [
  {
   "cell_type": "code",
   "execution_count": 3,
   "metadata": {},
   "outputs": [],
   "source": [
    "#!pip install requests -upgrade -q \n",
    "\n",
    "# q - quiet which removes output"
   ]
  },
  {
   "cell_type": "markdown",
   "metadata": {},
   "source": [
    "## 1. Download - 100 Most Acive Stocks\n",
    "We’ll start by downloading the requests library so we can open the articles as files."
   ]
  },
  {
   "cell_type": "code",
   "execution_count": 4,
   "metadata": {},
   "outputs": [],
   "source": [
    "import requests "
   ]
  },
  {
   "cell_type": "markdown",
   "metadata": {},
   "source": [
    "Here is a snapshot of the article that we will be parsing\n",
    "\n",
    "![Getting Started](images/yfin_mostActive.jpg)"
   ]
  },
  {
   "cell_type": "code",
   "execution_count": 13,
   "metadata": {},
   "outputs": [],
   "source": [
    "headers = {\n",
    "    'User-Agent' : 'Ben Dover',\n",
    "    'From' : 'ben@outlook.com'\n",
    "\n",
    "    }"
   ]
  },
  {
   "cell_type": "code",
   "execution_count": 14,
   "metadata": {},
   "outputs": [],
   "source": [
    "url = 'https://finance.yahoo.com/most-active?offset=0&count=100'\n",
    "response = requests.get(url, headers=headers)"
   ]
  },
  {
   "cell_type": "code",
   "execution_count": 15,
   "metadata": {},
   "outputs": [
    {
     "data": {
      "text/plain": [
       "200"
      ]
     },
     "execution_count": 15,
     "metadata": {},
     "output_type": "execute_result"
    }
   ],
   "source": [
    "response.status_code"
   ]
  },
  {
   "cell_type": "markdown",
   "metadata": {},
   "source": [
    "Looking at the response contents as text"
   ]
  },
  {
   "cell_type": "code",
   "execution_count": 21,
   "metadata": {},
   "outputs": [
    {
     "data": {
      "text/plain": [
       "'<!DOCTYPE html><html data-color-theme=\"light\" id=\"atomic\" class=\"NoJs desktop\" lang=\"en-US\"><head prefix=\"og: https://ogp.me/ns#\"><script>window.performance && window.performance.mark && window.performance.mark(\\'PageStart\\');</script><meta charSet=\"utf-8\"/><title>Most Active Stocks Today - Yahoo Finance</title><meta name=\"keywords\" content=\"Stock Screener, industry, index membership, share data, stock price, market cap, beta, sales, profitability, valuation ratios, analyst estimates, large cap value, bargain growth, preset stock screens\"/><meta http-equiv=\"x-dns-prefetch-control\" content=\"on\"/><meta property=\"twitter:dnt\" content=\"on\"/><meta property=\"fb:app_id\" content=\"458584288257241\"/><meta name=\"theme-color\" content=\"#400090\"/><meta name=\"viewport\" content=\"width=device-width, initial-scale=1\"/><meta name=\"description\" lang=\"en-US\" content=\"See the list of the most active stocks today, including share price change and percentage, trading volume, intraday highs and lows, and day cha'"
      ]
     },
     "execution_count": 21,
     "metadata": {},
     "output_type": "execute_result"
    }
   ],
   "source": [
    "# Displaying response\n",
    "url_contents = response.text\n",
    "url_contents[:1000]\n",
    "\n"
   ]
  },
  {
   "cell_type": "markdown",
   "metadata": {},
   "source": [
    "We will now save our file as an html document"
   ]
  },
  {
   "cell_type": "code",
   "execution_count": 27,
   "metadata": {},
   "outputs": [],
   "source": [
    "with open('yfin_most_active.html', 'w', encoding='utf-8') as file:\n",
    "    file.write(url_contents)"
   ]
  },
  {
   "cell_type": "markdown",
   "metadata": {},
   "source": [
    "We can create a function that downloads any url as a html file for future projects."
   ]
  },
  {
   "cell_type": "code",
   "execution_count": 24,
   "metadata": {},
   "outputs": [],
   "source": [
    "def download_web_page(url, html_title):\n",
    "    headers = {\n",
    "    'User-Agent' : 'Ben Dover',\n",
    "    'From' : 'ben@outlook.com'\n",
    "\n",
    "    } \n",
    "    response = response.get(url, headers=headers)\n",
    "    status_code = response.status_code\n",
    "    if status_code in range(200,300):\n",
    "        url_contents = response.text\n",
    "        with open('new_down_web_page.html', 'w', encoding=\"utf-8\") as file:\n",
    "            file.write(url_contents)\n",
    "        print('Status code is within okay range of {}'.format(status_code))\n",
    "    \n",
    "    else:\n",
    "        return"
   ]
  },
  {
   "cell_type": "markdown",
   "metadata": {},
   "source": [
    "## 2. Create a BeautifulSoup document for parsing - 100 Most Active Stocks\n",
    "\n",
    "We'll download the BeautifulSoup library so we can parse the articles."
   ]
  },
  {
   "cell_type": "code",
   "execution_count": 25,
   "metadata": {},
   "outputs": [
    {
     "name": "stdout",
     "output_type": "stream",
     "text": [
      "\n",
      "Usage:   \n",
      "  pip install [options] <requirement specifier> [package-index-options] ...\n",
      "  pip install [options] -r <requirements file> [package-index-options] ...\n",
      "  pip install [options] [-e] <vcs project url> ...\n",
      "  pip install [options] [-e] <local project path> ...\n",
      "  pip install [options] <archive url/path> ...\n",
      "\n",
      "no such option: -u\n"
     ]
    }
   ],
   "source": [
    "#!pip install beautifulsoup4 -upgrade -q"
   ]
  },
  {
   "cell_type": "code",
   "execution_count": 26,
   "metadata": {},
   "outputs": [],
   "source": [
    "from bs4 import BeautifulSoup"
   ]
  },
  {
   "cell_type": "markdown",
   "metadata": {},
   "source": [
    "We shall open our file so that we can turn it into BS4 document"
   ]
  },
  {
   "cell_type": "code",
   "execution_count": 28,
   "metadata": {},
   "outputs": [],
   "source": [
    "with open('yfin_most_active.html', 'r') as f:\n",
    "    html_source = f.read()"
   ]
  },
  {
   "cell_type": "code",
   "execution_count": 29,
   "metadata": {},
   "outputs": [],
   "source": [
    "doc = BeautifulSoup(html_source, 'html.parser')"
   ]
  },
  {
   "cell_type": "code",
   "execution_count": 30,
   "metadata": {},
   "outputs": [
    {
     "data": {
      "text/plain": [
       "bs4.BeautifulSoup"
      ]
     },
     "execution_count": 30,
     "metadata": {},
     "output_type": "execute_result"
    }
   ],
   "source": [
    "type(doc)"
   ]
  },
  {
   "cell_type": "markdown",
   "metadata": {},
   "source": [
    "## 3. Parse the BeautifulSoup document - 100 Most Active Stocks\n",
    "\n",
    "We'll now identify the tags and classes \n",
    "\n",
    "As you can see in the image below, the stock information is located within the `tr_tag`.\n",
    "\n",
    "The class slightly differs as the rows are coloured differently. We can use a subset of the class, `class_=’simpTblRow’` that is common to both class types.\n",
    "\n",
    "![HTML inspector](images/html_inspector.jpg)"
   ]
  },
  {
   "cell_type": "code",
   "execution_count": 31,
   "metadata": {},
   "outputs": [
    {
     "data": {
      "text/plain": [
       "[<tr class=\"simpTblRow Bgc($hoverBgColor):h BdB Bdbc($seperatorColor) Bdbc($tableBorderBlue):h H(32px) Bgc($lv2BgColor)\"><td aria-label=\"Symbol\" class=\"Va(m) Ta(start) Pstart(6px) Pend(10px) Miw(90px) Start(0) Pend(10px) simpTblRow:h_Bgc($hoverBgColor) Pos(st) Bgc($lv3BgColor) Z(1) Bgc($lv2BgColor) Ta(start)! Fz(s)\" colspan=\"\"><label class=\"Ta(c) Pos(r) Va(tb) Pend(5px) D(n)--print\" data-id=\"portfolio-checkbox\"><input aria-label=\"Select TSLA\" class=\"Pos(a) Op(0) checkbox\" type=\"checkbox\"/><svg class=\"Va(m)! H(16px) W(16px) checkbox:f+Stk($linkColor)! checkbox:f+Fill($linkColor)! Stk($plusGray) Fill($plusGray) Cur(p)\" data-icon=\"checkbox-unchecked\" height=\"16\" style=\"stroke-width:0;vertical-align:bottom\" viewbox=\"0 0 24 24\" width=\"16\"><path d=\"M3 3h18v18H3V3zm19-2H2c-.553 0-1 .448-1 1v20c0 .552.447 1 1 1h20c.552 0 1-.448 1-1V2c0-.552-.448-1-1-1z\"></path></svg></label><a class=\"Fw(600) C($linkColor)\" data-test=\"quoteLink\" href=\"/quote/TSLA?p=TSLA\" title=\"Tesla, Inc.\">TSLA</a><div class=\"W(3px) Pos(a) Start(100%) T(0) H(100%) Bg($pfColumnFakeShadowGradient) Pe(n) Pend(5px)\"></div></td><td aria-label=\"Name\" class=\"Va(m) Ta(start) Px(10px) Fz(s)\" colspan=\"\">Tesla, Inc.</td><td aria-label=\"Price (Intraday)\" class=\"Va(m) Ta(end) Pstart(20px) Fw(600) Fz(s)\" colspan=\"\"><fin-streamer active=\"\" class=\"\" data-field=\"regularMarketPrice\" data-pricehint=\"2\" data-symbol=\"TSLA\" data-test=\"colorChange\" data-trend=\"none\" value=\"123.22\">123.22</fin-streamer></td><td aria-label=\"Change\" class=\"Va(m) Ta(end) Pstart(20px) Fw(600) Fz(s)\" colspan=\"\"><fin-streamer active=\"\" class=\"Fw(600)\" data-field=\"regularMarketChange\" data-pricehint=\"2\" data-symbol=\"TSLA\" data-test=\"colorChange\" data-trend=\"txt\" value=\"4.3700027\"><span class=\"C($positiveColor)\">+4.37</span></fin-streamer></td><td aria-label=\"% Change\" class=\"Va(m) Ta(end) Pstart(20px) Fw(600) Fz(s)\" colspan=\"\"><fin-streamer active=\"\" class=\"Fw(600)\" data-field=\"regularMarketChangePercent\" data-pricehint=\"2\" data-symbol=\"TSLA\" data-test=\"colorChange\" data-trend=\"txt\" value=\"3.6769059\"><span class=\"C($positiveColor)\">+3.68%</span></fin-streamer></td><td aria-label=\"Volume\" class=\"Va(m) Ta(end) Pstart(20px) Fz(s)\" colspan=\"\"><fin-streamer active=\"\" class=\"\" data-field=\"regularMarketVolume\" data-pricehint=\"2\" data-symbol=\"TSLA\" data-test=\"colorChange\" data-trend=\"none\" value=\"183292467\">183.292M</fin-streamer></td><td aria-label=\"Avg Vol (3 month)\" class=\"Va(m) Ta(end) Pstart(20px) Fz(s)\" colspan=\"\">115.617M</td><td aria-label=\"Market Cap\" class=\"Va(m) Ta(end) Pstart(20px) Pend(10px) W(120px) Fz(s)\" colspan=\"\"><fin-streamer active=\"\" class=\"\" data-field=\"marketCap\" data-pricehint=\"2\" data-symbol=\"TSLA\" data-test=\"colorChange\" data-trend=\"none\" value=\"389097947136\">389.098B</fin-streamer></td><td aria-label=\"PE Ratio (TTM)\" class=\"Va(m) Ta(end) Pstart(20px) Fz(s)\" colspan=\"\">39.24</td><td aria-label=\"52 Week Range\" class=\"Va(m) Ta(end) Pstart(20px) Pend(6px) Fz(s)\" colspan=\"\"><canvas style=\"width:140px;height:23px\"></canvas></td></tr>,\n",
       " <tr class=\"simpTblRow Bgc($hoverBgColor):h BdB Bdbc($seperatorColor) Bdbc($tableBorderBlue):h H(32px) Bgc($lv1BgColor)\"><td aria-label=\"Symbol\" class=\"Va(m) Ta(start) Pstart(6px) Pend(10px) Miw(90px) Start(0) Pend(10px) simpTblRow:h_Bgc($hoverBgColor) Pos(st) Bgc($lv3BgColor) Z(1) Bgc($lv1BgColor) Ta(start)! Fz(s)\" colspan=\"\"><label class=\"Ta(c) Pos(r) Va(tb) Pend(5px) D(n)--print\" data-id=\"portfolio-checkbox\"><input aria-label=\"Select AMZN\" class=\"Pos(a) Op(0) checkbox\" type=\"checkbox\"/><svg class=\"Va(m)! H(16px) W(16px) checkbox:f+Stk($linkColor)! checkbox:f+Fill($linkColor)! Stk($plusGray) Fill($plusGray) Cur(p)\" data-icon=\"checkbox-unchecked\" height=\"16\" style=\"stroke-width:0;vertical-align:bottom\" viewbox=\"0 0 24 24\" width=\"16\"><path d=\"M3 3h18v18H3V3zm19-2H2c-.553 0-1 .448-1 1v20c0 .552.447 1 1 1h20c.552 0 1-.448 1-1V2c0-.552-.448-1-1-1z\"></path></svg></label><a class=\"Fw(600) C($linkColor)\" data-test=\"quoteLink\" href=\"/quote/AMZN?p=AMZN\" title=\"Amazon.com, Inc.\">AMZN</a><div class=\"W(3px) Pos(a) Start(100%) T(0) H(100%) Bg($pfColumnFakeShadowGradient) Pe(n) Pend(5px)\"></div></td><td aria-label=\"Name\" class=\"Va(m) Ta(start) Px(10px) Fz(s)\" colspan=\"\">Amazon.com, Inc.</td><td aria-label=\"Price (Intraday)\" class=\"Va(m) Ta(end) Pstart(20px) Fw(600) Fz(s)\" colspan=\"\"><fin-streamer active=\"\" class=\"\" data-field=\"regularMarketPrice\" data-pricehint=\"2\" data-symbol=\"AMZN\" data-test=\"colorChange\" data-trend=\"none\" value=\"95.09\">95.09</fin-streamer></td><td aria-label=\"Change\" class=\"Va(m) Ta(end) Pstart(20px) Fw(600) Fz(s)\" colspan=\"\"><fin-streamer active=\"\" class=\"Fw(600)\" data-field=\"regularMarketChange\" data-pricehint=\"2\" data-symbol=\"AMZN\" data-test=\"colorChange\" data-trend=\"txt\" value=\"5.2199936\"><span class=\"C($positiveColor)\">+5.22</span></fin-streamer></td><td aria-label=\"% Change\" class=\"Va(m) Ta(end) Pstart(20px) Fw(600) Fz(s)\" colspan=\"\"><fin-streamer active=\"\" class=\"Fw(600)\" data-field=\"regularMarketChangePercent\" data-pricehint=\"2\" data-symbol=\"AMZN\" data-test=\"colorChange\" data-trend=\"txt\" value=\"5.8083825\"><span class=\"C($positiveColor)\">+5.81%</span></fin-streamer></td><td aria-label=\"Volume\" class=\"Va(m) Ta(end) Pstart(20px) Fz(s)\" colspan=\"\"><fin-streamer active=\"\" class=\"\" data-field=\"regularMarketVolume\" data-pricehint=\"2\" data-symbol=\"AMZN\" data-test=\"colorChange\" data-trend=\"none\" value=\"103126183\">103.126M</fin-streamer></td><td aria-label=\"Avg Vol (3 month)\" class=\"Va(m) Ta(end) Pstart(20px) Fz(s)\" colspan=\"\">83.114M</td><td aria-label=\"Market Cap\" class=\"Va(m) Ta(end) Pstart(20px) Pend(10px) W(120px) Fz(s)\" colspan=\"\"><fin-streamer active=\"\" class=\"\" data-field=\"marketCap\" data-pricehint=\"2\" data-symbol=\"AMZN\" data-test=\"colorChange\" data-trend=\"none\" value=\"970079666176\">970.08B</fin-streamer></td><td aria-label=\"PE Ratio (TTM)\" class=\"Va(m) Ta(end) Pstart(20px) Fz(s)\" colspan=\"\">84.90</td><td aria-label=\"52 Week Range\" class=\"Va(m) Ta(end) Pstart(20px) Pend(6px) Fz(s)\" colspan=\"\"><canvas style=\"width:140px;height:23px\"></canvas></td></tr>]"
      ]
     },
     "execution_count": 31,
     "metadata": {},
     "output_type": "execute_result"
    }
   ],
   "source": [
    "tr_class_tags = doc.find_all('tr', class_='simpTblRow')\n",
    "tr_class_tags[:2]"
   ]
  },
  {
   "cell_type": "code",
   "execution_count": 32,
   "metadata": {},
   "outputs": [
    {
     "data": {
      "text/plain": [
       "100"
      ]
     },
     "execution_count": 32,
     "metadata": {},
     "output_type": "execute_result"
    }
   ],
   "source": [
    "len(tr_class_tags)"
   ]
  },
  {
   "cell_type": "markdown",
   "metadata": {},
   "source": [
    "We have the correct number of tr tags.\n",
    "\n",
    "Let's look at the first `tr_tag` which encompasses the stock `TSLA`\n"
   ]
  },
  {
   "cell_type": "code",
   "execution_count": 36,
   "metadata": {},
   "outputs": [],
   "source": [
    "tr_class_tags1 = tr_class_tags[0]\n"
   ]
  },
  {
   "cell_type": "markdown",
   "metadata": {},
   "source": [
    "If we look within the first `tr_tag` in the image below, we can see that each element of the stock is within a `td_tag`. We are going to extract these tags\n",
    "\n",
    "\n",
    "![tdtag](images/yfin_tdtag.jpg)"
   ]
  },
  {
   "cell_type": "code",
   "execution_count": 40,
   "metadata": {},
   "outputs": [
    {
     "data": {
      "text/plain": [
       "[<td aria-label=\"Symbol\" class=\"Va(m) Ta(start) Pstart(6px) Pend(10px) Miw(90px) Start(0) Pend(10px) simpTblRow:h_Bgc($hoverBgColor) Pos(st) Bgc($lv3BgColor) Z(1) Bgc($lv2BgColor) Ta(start)! Fz(s)\" colspan=\"\"><label class=\"Ta(c) Pos(r) Va(tb) Pend(5px) D(n)--print\" data-id=\"portfolio-checkbox\"><input aria-label=\"Select TSLA\" class=\"Pos(a) Op(0) checkbox\" type=\"checkbox\"/><svg class=\"Va(m)! H(16px) W(16px) checkbox:f+Stk($linkColor)! checkbox:f+Fill($linkColor)! Stk($plusGray) Fill($plusGray) Cur(p)\" data-icon=\"checkbox-unchecked\" height=\"16\" style=\"stroke-width:0;vertical-align:bottom\" viewbox=\"0 0 24 24\" width=\"16\"><path d=\"M3 3h18v18H3V3zm19-2H2c-.553 0-1 .448-1 1v20c0 .552.447 1 1 1h20c.552 0 1-.448 1-1V2c0-.552-.448-1-1-1z\"></path></svg></label><a class=\"Fw(600) C($linkColor)\" data-test=\"quoteLink\" href=\"/quote/TSLA?p=TSLA\" title=\"Tesla, Inc.\">TSLA</a><div class=\"W(3px) Pos(a) Start(100%) T(0) H(100%) Bg($pfColumnFakeShadowGradient) Pe(n) Pend(5px)\"></div></td>,\n",
       " <td aria-label=\"Name\" class=\"Va(m) Ta(start) Px(10px) Fz(s)\" colspan=\"\">Tesla, Inc.</td>,\n",
       " <td aria-label=\"Price (Intraday)\" class=\"Va(m) Ta(end) Pstart(20px) Fw(600) Fz(s)\" colspan=\"\"><fin-streamer active=\"\" class=\"\" data-field=\"regularMarketPrice\" data-pricehint=\"2\" data-symbol=\"TSLA\" data-test=\"colorChange\" data-trend=\"none\" value=\"123.22\">123.22</fin-streamer></td>,\n",
       " <td aria-label=\"Change\" class=\"Va(m) Ta(end) Pstart(20px) Fw(600) Fz(s)\" colspan=\"\"><fin-streamer active=\"\" class=\"Fw(600)\" data-field=\"regularMarketChange\" data-pricehint=\"2\" data-symbol=\"TSLA\" data-test=\"colorChange\" data-trend=\"txt\" value=\"4.3700027\"><span class=\"C($positiveColor)\">+4.37</span></fin-streamer></td>,\n",
       " <td aria-label=\"% Change\" class=\"Va(m) Ta(end) Pstart(20px) Fw(600) Fz(s)\" colspan=\"\"><fin-streamer active=\"\" class=\"Fw(600)\" data-field=\"regularMarketChangePercent\" data-pricehint=\"2\" data-symbol=\"TSLA\" data-test=\"colorChange\" data-trend=\"txt\" value=\"3.6769059\"><span class=\"C($positiveColor)\">+3.68%</span></fin-streamer></td>,\n",
       " <td aria-label=\"Volume\" class=\"Va(m) Ta(end) Pstart(20px) Fz(s)\" colspan=\"\"><fin-streamer active=\"\" class=\"\" data-field=\"regularMarketVolume\" data-pricehint=\"2\" data-symbol=\"TSLA\" data-test=\"colorChange\" data-trend=\"none\" value=\"183292467\">183.292M</fin-streamer></td>,\n",
       " <td aria-label=\"Avg Vol (3 month)\" class=\"Va(m) Ta(end) Pstart(20px) Fz(s)\" colspan=\"\">115.617M</td>,\n",
       " <td aria-label=\"Market Cap\" class=\"Va(m) Ta(end) Pstart(20px) Pend(10px) W(120px) Fz(s)\" colspan=\"\"><fin-streamer active=\"\" class=\"\" data-field=\"marketCap\" data-pricehint=\"2\" data-symbol=\"TSLA\" data-test=\"colorChange\" data-trend=\"none\" value=\"389097947136\">389.098B</fin-streamer></td>,\n",
       " <td aria-label=\"PE Ratio (TTM)\" class=\"Va(m) Ta(end) Pstart(20px) Fz(s)\" colspan=\"\">39.24</td>,\n",
       " <td aria-label=\"52 Week Range\" class=\"Va(m) Ta(end) Pstart(20px) Pend(6px) Fz(s)\" colspan=\"\"><canvas style=\"width:140px;height:23px\"></canvas></td>]"
      ]
     },
     "execution_count": 40,
     "metadata": {},
     "output_type": "execute_result"
    }
   ],
   "source": [
    "td_tag = tr_class_tags1.find_all('td')\n",
    "td_tag"
   ]
  },
  {
   "cell_type": "markdown",
   "metadata": {},
   "source": [
    "We can see that the stock ticker is located within the `a_tag`. Therefore we will extract that."
   ]
  },
  {
   "cell_type": "code",
   "execution_count": 41,
   "metadata": {},
   "outputs": [
    {
     "data": {
      "text/plain": [
       "[<a class=\"Fw(600) C($linkColor)\" data-test=\"quoteLink\" href=\"/quote/TSLA?p=TSLA\" title=\"Tesla, Inc.\">TSLA</a>]"
      ]
     },
     "execution_count": 41,
     "metadata": {},
     "output_type": "execute_result"
    }
   ],
   "source": [
    "a_tag = td_tag[0].find_all('a', recursive=False)\n",
    "a_tag"
   ]
  },
  {
   "cell_type": "markdown",
   "metadata": {},
   "source": [
    "## 4. Create a function to display information - 100 Most Active Stocks\n",
    "\n",
    "We'll now create a function that can parse a `tr_tag` and create a corresponding dictionary of all the stock information."
   ]
  },
  {
   "cell_type": "code",
   "execution_count": 52,
   "metadata": {},
   "outputs": [],
   "source": [
    "def parse_stocks(tr_class_tag_with_n):\n",
    "    # <td> tags contain all of the stocks info, <tr> tags contain all of the individual details, <a> tags contain exact content.\n",
    "\n",
    "    td_tag = tr_class_tag_with_n.find_all('td')\n",
    "    a_tag = td_tag[0].find('a', recursive=False)\n",
    "    #Stock ticker\n",
    "    ticker_name = a_tag.text.strip()\n",
    "    # Stock Name\n",
    "    name_tag = td_tag[1].text.replace(',',\"\")\n",
    "    # Last Price of stock\n",
    "    price_tag = float(td_tag[2].text)\n",
    "    # Stock change\n",
    "    daily_change_tag = td_tag[3].text\n",
    "    # Percentage Change\n",
    "    daily_percentage_change_tag = td_tag[4].text\n",
    "    # Volume\n",
    "    volume_tag = td_tag[5].text\n",
    "\n",
    "    # Return a dictionary\n",
    "    return {\n",
    "        'Stock ticker' : ticker_name,\n",
    "        'Stock name' : name_tag,\n",
    "        'Last price of stock' : price_tag,\n",
    "        'Stock change' : daily_change_tag,\n",
    "        'Stock percentage change' : daily_percentage_change_tag,\n",
    "        'Volume' : volume_tag,\n",
    "\n",
    "    }\n"
   ]
  },
  {
   "cell_type": "markdown",
   "metadata": {},
   "source": [
    "Let's apply our function to the first stock on the list, TSLA."
   ]
  },
  {
   "cell_type": "code",
   "execution_count": 53,
   "metadata": {},
   "outputs": [
    {
     "data": {
      "text/plain": [
       "{'Stock ticker': 'TSLA',\n",
       " 'Stock name': 'Tesla Inc.',\n",
       " 'Last price of stock': 123.22,\n",
       " 'Stock change': '+4.37',\n",
       " 'Stock percentage change': '+3.68%',\n",
       " 'Volume': '183.292M'}"
      ]
     },
     "execution_count": 53,
     "metadata": {},
     "output_type": "execute_result"
    }
   ],
   "source": [
    "parse_stocks(tr_class_tags[0])"
   ]
  },
  {
   "cell_type": "markdown",
   "metadata": {},
   "source": [
    "We will now create a fucntion that utilizes list comprehension to parse the stock information for all of our stocks at once."
   ]
  },
  {
   "cell_type": "code",
   "execution_count": 54,
   "metadata": {},
   "outputs": [
    {
     "data": {
      "text/plain": [
       "[{'Stock ticker': 'TSLA',\n",
       "  'Stock name': 'Tesla Inc.',\n",
       "  'Last price of stock': 123.22,\n",
       "  'Stock change': '+4.37',\n",
       "  'Stock percentage change': '+3.68%',\n",
       "  'Volume': '183.292M'},\n",
       " {'Stock ticker': 'AMZN',\n",
       "  'Stock name': 'Amazon.com Inc.',\n",
       "  'Last price of stock': 95.09,\n",
       "  'Stock change': '+5.22',\n",
       "  'Stock percentage change': '+5.81%',\n",
       "  'Volume': '103.126M'},\n",
       " {'Stock ticker': 'AAPL',\n",
       "  'Stock name': 'Apple Inc.',\n",
       "  'Last price of stock': 133.49,\n",
       "  'Stock change': '+2.76',\n",
       "  'Stock percentage change': '+2.11%',\n",
       "  'Volume': '69.459M'}]"
      ]
     },
     "execution_count": 54,
     "metadata": {},
     "output_type": "execute_result"
    }
   ],
   "source": [
    "most_active_stocks = [parse_stocks(x) for  x in tr_class_tags]\n",
    "most_active_stocks[:3]"
   ]
  },
  {
   "cell_type": "markdown",
   "metadata": {},
   "source": [
    "## 5. Create a CSV of the parsed information - 100 most Active Stocks\n",
    "\n",
    "We can write a function that creates a CSV file from our parsed information."
   ]
  },
  {
   "cell_type": "code",
   "execution_count": 55,
   "metadata": {},
   "outputs": [],
   "source": [
    "def write_csv(items, filename):\n",
    "    with open(filename, 'w') as f:\n",
    "        if len(items) == 0:\n",
    "            return \n",
    "        headers = list(items[0].keys())\n",
    "        f.write(','.join(headers) + '\\n')\n",
    "\n",
    "        for item in items:\n",
    "            values = []\n",
    "            for header in headers:\n",
    "                values.append(str(item.get(header, \"\")))\n",
    "            f.write(','.join(values) + '\\n')"
   ]
  },
  {
   "cell_type": "code",
   "execution_count": 56,
   "metadata": {},
   "outputs": [],
   "source": [
    "write_csv(most_active_stocks, \"most-active-stocks.csv\")"
   ]
  },
  {
   "cell_type": "markdown",
   "metadata": {},
   "source": [
    "Let's display our csv document with the help of pandas library"
   ]
  },
  {
   "cell_type": "code",
   "execution_count": 57,
   "metadata": {},
   "outputs": [],
   "source": [
    "import pandas as pd"
   ]
  },
  {
   "cell_type": "code",
   "execution_count": 58,
   "metadata": {},
   "outputs": [
    {
     "data": {
      "text/html": [
       "<div>\n",
       "<style scoped>\n",
       "    .dataframe tbody tr th:only-of-type {\n",
       "        vertical-align: middle;\n",
       "    }\n",
       "\n",
       "    .dataframe tbody tr th {\n",
       "        vertical-align: top;\n",
       "    }\n",
       "\n",
       "    .dataframe thead th {\n",
       "        text-align: right;\n",
       "    }\n",
       "</style>\n",
       "<table border=\"1\" class=\"dataframe\">\n",
       "  <thead>\n",
       "    <tr style=\"text-align: right;\">\n",
       "      <th></th>\n",
       "      <th>Stock ticker</th>\n",
       "      <th>Stock name</th>\n",
       "      <th>Last price of stock</th>\n",
       "      <th>Stock change</th>\n",
       "      <th>Stock percentage change</th>\n",
       "      <th>Volume</th>\n",
       "    </tr>\n",
       "  </thead>\n",
       "  <tbody>\n",
       "    <tr>\n",
       "      <th>0</th>\n",
       "      <td>TSLA</td>\n",
       "      <td>Tesla Inc.</td>\n",
       "      <td>123.22</td>\n",
       "      <td>4.37</td>\n",
       "      <td>+3.68%</td>\n",
       "      <td>183.292M</td>\n",
       "    </tr>\n",
       "    <tr>\n",
       "      <th>1</th>\n",
       "      <td>AMZN</td>\n",
       "      <td>Amazon.com Inc.</td>\n",
       "      <td>95.09</td>\n",
       "      <td>5.22</td>\n",
       "      <td>+5.81%</td>\n",
       "      <td>103.126M</td>\n",
       "    </tr>\n",
       "    <tr>\n",
       "      <th>2</th>\n",
       "      <td>AAPL</td>\n",
       "      <td>Apple Inc.</td>\n",
       "      <td>133.49</td>\n",
       "      <td>2.76</td>\n",
       "      <td>+2.11%</td>\n",
       "      <td>69.459M</td>\n",
       "    </tr>\n",
       "    <tr>\n",
       "      <th>3</th>\n",
       "      <td>AMC</td>\n",
       "      <td>AMC Entertainment Holdings Inc.</td>\n",
       "      <td>4.92</td>\n",
       "      <td>0.86</td>\n",
       "      <td>+21.18%</td>\n",
       "      <td>51.501M</td>\n",
       "    </tr>\n",
       "    <tr>\n",
       "      <th>4</th>\n",
       "      <td>F</td>\n",
       "      <td>Ford Motor Company</td>\n",
       "      <td>13.22</td>\n",
       "      <td>0.38</td>\n",
       "      <td>+2.96%</td>\n",
       "      <td>51.84M</td>\n",
       "    </tr>\n",
       "  </tbody>\n",
       "</table>\n",
       "</div>"
      ],
      "text/plain": [
       "  Stock ticker                       Stock name  Last price of stock  \\\n",
       "0         TSLA                       Tesla Inc.               123.22   \n",
       "1         AMZN                  Amazon.com Inc.                95.09   \n",
       "2         AAPL                       Apple Inc.               133.49   \n",
       "3          AMC  AMC Entertainment Holdings Inc.                 4.92   \n",
       "4            F               Ford Motor Company                13.22   \n",
       "\n",
       "   Stock change Stock percentage change    Volume  \n",
       "0          4.37                  +3.68%  183.292M  \n",
       "1          5.22                  +5.81%  103.126M  \n",
       "2          2.76                  +2.11%   69.459M  \n",
       "3          0.86                 +21.18%   51.501M  \n",
       "4          0.38                  +2.96%    51.84M  "
      ]
     },
     "execution_count": 58,
     "metadata": {},
     "output_type": "execute_result"
    }
   ],
   "source": [
    "df = pd.read_csv('most-active-stocks.csv')\n",
    "df.head()"
   ]
  },
  {
   "cell_type": "code",
   "execution_count": 59,
   "metadata": {},
   "outputs": [
    {
     "name": "stdout",
     "output_type": "stream",
     "text": [
      "<class 'pandas.core.frame.DataFrame'>\n",
      "RangeIndex: 100 entries, 0 to 99\n",
      "Data columns (total 6 columns):\n",
      " #   Column                   Non-Null Count  Dtype  \n",
      "---  ------                   --------------  -----  \n",
      " 0   Stock ticker             100 non-null    object \n",
      " 1   Stock name               100 non-null    object \n",
      " 2   Last price of stock      100 non-null    float64\n",
      " 3   Stock change             100 non-null    float64\n",
      " 4   Stock percentage change  100 non-null    object \n",
      " 5   Volume                   100 non-null    object \n",
      "dtypes: float64(2), object(4)\n",
      "memory usage: 4.8+ KB\n"
     ]
    }
   ],
   "source": [
    "df.info()"
   ]
  },
  {
   "cell_type": "code",
   "execution_count": null,
   "metadata": {},
   "outputs": [],
   "source": []
  }
 ],
 "metadata": {
  "kernelspec": {
   "display_name": "Python 3.10.6 64-bit",
   "language": "python",
   "name": "python3"
  },
  "language_info": {
   "codemirror_mode": {
    "name": "ipython",
    "version": 3
   },
   "file_extension": ".py",
   "mimetype": "text/x-python",
   "name": "python",
   "nbconvert_exporter": "python",
   "pygments_lexer": "ipython3",
   "version": "3.10.6"
  },
  "orig_nbformat": 4,
  "vscode": {
   "interpreter": {
    "hash": "aee8b7b246df8f9039afb4144a1f6fd8d2ca17a180786b69acc140d282b71a49"
   }
  }
 },
 "nbformat": 4,
 "nbformat_minor": 2
}
