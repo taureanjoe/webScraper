{
 "cells": [
  {
   "cell_type": "code",
   "execution_count": 1,
   "metadata": {},
   "outputs": [],
   "source": [
    "#!pip install requests -upgrade -q \n",
    "\n",
    "# q - quiet which removes output"
   ]
  },
  {
   "cell_type": "markdown",
   "metadata": {},
   "source": [
    "# Web Scraping 100 Most Active Stocks from Yahoo Finance\n",
    "\n",
    "### Introduction\n",
    "Web scraping is a method for extracting data from websites. This notebook demonstrates how to scrape the 100 most active stocks from the Yahoo Finance website.\n",
    "\n",
    "\n",
    "### Legal Aspects\n",
    "Before scraping a website, it is important to check its terms of service to ensure that web scraping is allowed. Yahoo Finance's terms of service can be found [here](https://finance.yahoo.com/finance/news/scraping-legal-us-appeals-court-191657855.html).\n",
    "\n",
    "\n",
    "![yahoo_finance](https://i.postimg.cc/kGc8v5qp/64232e2dde875c1fa89eaeef-yahoo-finance-header.webp)\n",
    "We’ll start by downloading the requests library so we can open the articles as files.\n",
    "\n",
    "\n",
    "### Required Libraries\n",
    "Before we get started, we need to install the following Python libraries:\n",
    "\n",
    "`requests`-  for making HTTP requests to the website\n",
    "`BeautifulSoup`- for parsing HTML and extracting the needed data\n",
    "`pandas`- for data manipulation\n",
    "`matplotlib`- for data visualization\n",
    "\n",
    "\n",
    "You can install these using pip:\n",
    "`pip install requests beautifulsoup4 pandas matplotlib`\n",
    "\n",
    "\n",
    "### Inspecting the Web Page\n",
    "Before writing the scraping code, it's crucial to inspect the web page and understand its structure. This can be done by right-clicking on the element you wish to scrape and selecting \"Inspect\" to open the browser's developer tools.\n",
    "\n",
    "For this project, we are interested in scraping the 100 most active stocks listed [here.](https://finance.yahoo.com/most-active?offset=0&count=100)"
   ]
  },
  {
   "cell_type": "code",
   "execution_count": 2,
   "metadata": {},
   "outputs": [],
   "source": [
    "import requests "
   ]
  },
  {
   "cell_type": "markdown",
   "metadata": {},
   "source": [
    "Here is a snapshot of the article that we will be parsing\n",
    "\n",
    "![1](https://i.postimg.cc/jdTCsKtD/1.jpg)\n",
    "\n",
    "## 1. Download - 100 Most Acive Stocks"
   ]
  },
  {
   "cell_type": "code",
   "execution_count": 3,
   "metadata": {},
   "outputs": [],
   "source": [
    "headers = {\n",
    "    'User-Agent' : 'Ben Dover',\n",
    "    'From' : 'ben@outlook.com'\n",
    "\n",
    "    }"
   ]
  },
  {
   "cell_type": "code",
   "execution_count": 4,
   "metadata": {},
   "outputs": [],
   "source": [
    "url = 'https://finance.yahoo.com/most-active?offset=0&count=100'\n",
    "response = requests.get(url, headers=headers)"
   ]
  },
  {
   "cell_type": "code",
   "execution_count": 5,
   "metadata": {},
   "outputs": [
    {
     "data": {
      "text/plain": [
       "200"
      ]
     },
     "execution_count": 5,
     "metadata": {},
     "output_type": "execute_result"
    }
   ],
   "source": [
    "response.status_code"
   ]
  },
  {
   "cell_type": "markdown",
   "metadata": {},
   "source": [
    "Looking at the response contents as text"
   ]
  },
  {
   "cell_type": "code",
   "execution_count": 6,
   "metadata": {},
   "outputs": [
    {
     "data": {
      "text/plain": [
       "'<!DOCTYPE html><html data-color-theme=\"light\" id=\"atomic\" class=\"NoJs desktop\" lang=\"en-US\"><head prefix=\"og: https://ogp.me/ns#\"><script>window.performance && window.performance.mark && window.performance.mark(\\'PageStart\\');</script><meta charSet=\"utf-8\"/><title>Most Active Stocks Today - Yahoo Finance</title><meta name=\"keywords\" content=\"Stock Screener, industry, index membership, share data, stock price, market cap, beta, sales, profitability, valuation ratios, analyst estimates, large cap value, bargain growth, preset stock screens\"/><meta http-equiv=\"x-dns-prefetch-control\" content=\"on\"/><meta property=\"twitter:dnt\" content=\"on\"/><meta property=\"fb:app_id\" content=\"458584288257241\"/><meta name=\"theme-color\" content=\"#400090\"/><meta name=\"viewport\" content=\"width=device-width, initial-scale=1\"/><meta name=\"description\" lang=\"en-US\" content=\"See the list of the most active stocks today, including share price change and percentage, trading volume, intraday highs and lows, and day cha'"
      ]
     },
     "execution_count": 6,
     "metadata": {},
     "output_type": "execute_result"
    }
   ],
   "source": [
    "# Displaying response\n",
    "url_contents = response.text\n",
    "url_contents[:1000]\n",
    "\n"
   ]
  },
  {
   "cell_type": "markdown",
   "metadata": {},
   "source": [
    "We will now save our file as an html document"
   ]
  },
  {
   "cell_type": "code",
   "execution_count": 7,
   "metadata": {},
   "outputs": [],
   "source": [
    "with open('yfin_most_active.html', 'w', encoding='utf-8') as file:\n",
    "    file.write(url_contents)"
   ]
  },
  {
   "cell_type": "markdown",
   "metadata": {},
   "source": [
    "We can create a function that downloads any url as a html file for future projects."
   ]
  },
  {
   "cell_type": "code",
   "execution_count": 8,
   "metadata": {},
   "outputs": [],
   "source": [
    "def download_web_page(url, html_title):\n",
    "    headers = {\n",
    "    'User-Agent' : 'Ben Dover',\n",
    "    'From' : 'ben@outlook.com'\n",
    "\n",
    "    } \n",
    "    response = response.get(url, headers=headers)\n",
    "    status_code = response.status_code\n",
    "    if status_code in range(200,300):\n",
    "        url_contents = response.text\n",
    "        with open('new_down_web_page.html', 'w', encoding=\"utf-8\") as file:\n",
    "            file.write(url_contents)\n",
    "        print('Status code is within okay range of {}'.format(status_code))\n",
    "    \n",
    "    else:\n",
    "        return"
   ]
  },
  {
   "cell_type": "markdown",
   "metadata": {},
   "source": [
    "## 2. Create a BeautifulSoup document for parsing - 100 Most Active Stocks\n",
    "\n",
    "We'll download the BeautifulSoup library so we can parse the articles."
   ]
  },
  {
   "cell_type": "code",
   "execution_count": 9,
   "metadata": {},
   "outputs": [],
   "source": [
    "#!pip install beautifulsoup4 -upgrade -q"
   ]
  },
  {
   "cell_type": "code",
   "execution_count": 10,
   "metadata": {},
   "outputs": [],
   "source": [
    "from bs4 import BeautifulSoup"
   ]
  },
  {
   "cell_type": "markdown",
   "metadata": {},
   "source": [
    "We shall open our file so that we can turn it into BS4 document"
   ]
  },
  {
   "cell_type": "code",
   "execution_count": 11,
   "metadata": {},
   "outputs": [],
   "source": [
    "with open('yfin_most_active.html', 'r') as f:\n",
    "    html_source = f.read()"
   ]
  },
  {
   "cell_type": "code",
   "execution_count": 12,
   "metadata": {},
   "outputs": [],
   "source": [
    "doc = BeautifulSoup(html_source, 'html.parser')"
   ]
  },
  {
   "cell_type": "code",
   "execution_count": 13,
   "metadata": {},
   "outputs": [
    {
     "data": {
      "text/plain": [
       "bs4.BeautifulSoup"
      ]
     },
     "execution_count": 13,
     "metadata": {},
     "output_type": "execute_result"
    }
   ],
   "source": [
    "type(doc)"
   ]
  },
  {
   "cell_type": "markdown",
   "metadata": {},
   "source": [
    "## 3. Parse the BeautifulSoup document - 100 Most Active Stocks\n",
    "\n",
    "We'll now identify the tags and classes \n",
    "\n",
    "As you can see in the image below, the stock information is located within the `tr_tag`.\n",
    "\n",
    "The class slightly differs as the rows are coloured differently. We can use a subset of the class, `class_=’simpTblRow’` that is common to both class types.\n",
    "\n",
    "![2](https://i.postimg.cc/CxL1qNZY/2.jpg)"
   ]
  },
  {
   "cell_type": "code",
   "execution_count": 14,
   "metadata": {},
   "outputs": [
    {
     "data": {
      "text/plain": [
       "[<tr class=\"simpTblRow Bgc($hoverBgColor):h BdB Bdbc($seperatorColor) Bdbc($tableBorderBlue):h H(32px) Bgc($lv2BgColor)\"><td aria-label=\"Symbol\" class=\"Va(m) Ta(start) Pstart(6px) Pend(10px) Miw(90px) Start(0) Pend(10px) simpTblRow:h_Bgc($hoverBgColor) Pos(st) Bgc($lv3BgColor) Z(1) Bgc($lv2BgColor) Ta(start)! Fz(s)\" colspan=\"\"><label class=\"Ta(c) Pos(r) Va(tb) Pend(5px) D(n)--print\" data-id=\"portfolio-checkbox\"><input aria-label=\"Select APE\" class=\"Pos(a) Op(0) checkbox\" type=\"checkbox\"/><svg class=\"Va(m)! H(16px) W(16px) checkbox:f+Stk($linkColor)! checkbox:f+Fill($linkColor)! Stk($plusGray) Fill($plusGray) Cur(p)\" data-icon=\"checkbox-unchecked\" height=\"16\" style=\"stroke-width:0;vertical-align:bottom\" viewbox=\"0 0 24 24\" width=\"16\"><path d=\"M3 3h18v18H3V3zm19-2H2c-.553 0-1 .448-1 1v20c0 .552.447 1 1 1h20c.552 0 1-.448 1-1V2c0-.552-.448-1-1-1z\"></path></svg></label><a class=\"Fw(600) C($linkColor)\" data-test=\"quoteLink\" href=\"/quote/APE?p=APE\" title=\"AMC Entertainment Holdings, Inc.\">APE</a><div class=\"W(3px) Pos(a) Start(100%) T(0) H(100%) Bg($pfColumnFakeShadowGradient) Pe(n) Pend(5px)\"></div></td><td aria-label=\"Name\" class=\"Va(m) Ta(start) Px(10px) Fz(s)\" colspan=\"\">AMC Entertainment Holdings, Inc.</td><td aria-label=\"Price (Intraday)\" class=\"Va(m) Ta(end) Pstart(20px) Fw(600) Fz(s)\" colspan=\"\"><fin-streamer active=\"\" class=\"\" data-field=\"regularMarketPrice\" data-pricehint=\"4\" data-symbol=\"APE\" data-test=\"colorChange\" data-trend=\"none\" value=\"1.42\">1.4200</fin-streamer></td><td aria-label=\"Change\" class=\"Va(m) Ta(end) Pstart(20px) Fw(600) Fz(s)\" colspan=\"\"><fin-streamer active=\"\" class=\"Fw(600)\" data-field=\"regularMarketChange\" data-pricehint=\"4\" data-symbol=\"APE\" data-test=\"colorChange\" data-trend=\"txt\" value=\"-0.31\"><span class=\"C($negativeColor)\">-0.3100</span></fin-streamer></td><td aria-label=\"% Change\" class=\"Va(m) Ta(end) Pstart(20px) Fw(600) Fz(s)\" colspan=\"\"><fin-streamer active=\"\" class=\"Fw(600)\" data-field=\"regularMarketChangePercent\" data-pricehint=\"4\" data-symbol=\"APE\" data-test=\"colorChange\" data-trend=\"txt\" value=\"-17.9191\"><span class=\"C($negativeColor)\">-17.92%</span></fin-streamer></td><td aria-label=\"Volume\" class=\"Va(m) Ta(end) Pstart(20px) Fz(s)\" colspan=\"\"><fin-streamer active=\"\" class=\"\" data-field=\"regularMarketVolume\" data-pricehint=\"4\" data-symbol=\"APE\" data-test=\"colorChange\" data-trend=\"none\" value=\"134390172\">134.39M</fin-streamer></td><td aria-label=\"Avg Vol (3 month)\" class=\"Va(m) Ta(end) Pstart(20px) Fz(s)\" colspan=\"\">25.121M</td><td aria-label=\"Market Cap\" class=\"Va(m) Ta(end) Pstart(20px) Pend(10px) W(120px) Fz(s)\" colspan=\"\"><fin-streamer active=\"\" class=\"\" data-field=\"marketCap\" data-pricehint=\"4\" data-symbol=\"APE\" data-test=\"colorChange\" data-trend=\"none\" value=\"2259035392\">2.259B</fin-streamer></td><td aria-label=\"PE Ratio (TTM)\" class=\"Va(m) Ta(end) Pstart(20px) Fz(s)\" colspan=\"\"><span>N/A</span></td><td aria-label=\"52 Week Range\" class=\"Va(m) Ta(end) Pstart(20px) Pend(6px) Fz(s)\" colspan=\"\"><canvas style=\"width:140px;height:23px\"></canvas></td></tr>,\n",
       " <tr class=\"simpTblRow Bgc($hoverBgColor):h BdB Bdbc($seperatorColor) Bdbc($tableBorderBlue):h H(32px) Bgc($lv1BgColor)\"><td aria-label=\"Symbol\" class=\"Va(m) Ta(start) Pstart(6px) Pend(10px) Miw(90px) Start(0) Pend(10px) simpTblRow:h_Bgc($hoverBgColor) Pos(st) Bgc($lv3BgColor) Z(1) Bgc($lv1BgColor) Ta(start)! Fz(s)\" colspan=\"\"><label class=\"Ta(c) Pos(r) Va(tb) Pend(5px) D(n)--print\" data-id=\"portfolio-checkbox\"><input aria-label=\"Select TSLA\" class=\"Pos(a) Op(0) checkbox\" type=\"checkbox\"/><svg class=\"Va(m)! H(16px) W(16px) checkbox:f+Stk($linkColor)! checkbox:f+Fill($linkColor)! Stk($plusGray) Fill($plusGray) Cur(p)\" data-icon=\"checkbox-unchecked\" height=\"16\" style=\"stroke-width:0;vertical-align:bottom\" viewbox=\"0 0 24 24\" width=\"16\"><path d=\"M3 3h18v18H3V3zm19-2H2c-.553 0-1 .448-1 1v20c0 .552.447 1 1 1h20c.552 0 1-.448 1-1V2c0-.552-.448-1-1-1z\"></path></svg></label><a class=\"Fw(600) C($linkColor)\" data-test=\"quoteLink\" href=\"/quote/TSLA?p=TSLA\" title=\"Tesla, Inc.\">TSLA</a><div class=\"W(3px) Pos(a) Start(100%) T(0) H(100%) Bg($pfColumnFakeShadowGradient) Pe(n) Pend(5px)\"></div></td><td aria-label=\"Name\" class=\"Va(m) Ta(start) Px(10px) Fz(s)\" colspan=\"\">Tesla, Inc.</td><td aria-label=\"Price (Intraday)\" class=\"Va(m) Ta(end) Pstart(20px) Fw(600) Fz(s)\" colspan=\"\"><fin-streamer active=\"\" class=\"\" data-field=\"regularMarketPrice\" data-pricehint=\"2\" data-symbol=\"TSLA\" data-test=\"colorChange\" data-trend=\"none\" value=\"258.08\">258.08</fin-streamer></td><td aria-label=\"Change\" class=\"Va(m) Ta(end) Pstart(20px) Fw(600) Fz(s)\" colspan=\"\"><fin-streamer active=\"\" class=\"Fw(600)\" data-field=\"regularMarketChange\" data-pricehint=\"2\" data-symbol=\"TSLA\" data-test=\"colorChange\" data-trend=\"txt\" value=\"1.1799927\"><span class=\"C($positiveColor)\">+1.18</span></fin-streamer></td><td aria-label=\"% Change\" class=\"Va(m) Ta(end) Pstart(20px) Fw(600) Fz(s)\" colspan=\"\"><fin-streamer active=\"\" class=\"Fw(600)\" data-field=\"regularMarketChangePercent\" data-pricehint=\"2\" data-symbol=\"TSLA\" data-test=\"colorChange\" data-trend=\"txt\" value=\"0.45931986\"><span class=\"C($positiveColor)\">+0.46%</span></fin-streamer></td><td aria-label=\"Volume\" class=\"Va(m) Ta(end) Pstart(20px) Fz(s)\" colspan=\"\"><fin-streamer active=\"\" class=\"\" data-field=\"regularMarketVolume\" data-pricehint=\"2\" data-symbol=\"TSLA\" data-test=\"colorChange\" data-trend=\"none\" value=\"107491134\">107.491M</fin-streamer></td><td aria-label=\"Avg Vol (3 month)\" class=\"Va(m) Ta(end) Pstart(20px) Fz(s)\" colspan=\"\">130.553M</td><td aria-label=\"Market Cap\" class=\"Va(m) Ta(end) Pstart(20px) Pend(10px) W(120px) Fz(s)\" colspan=\"\"><fin-streamer active=\"\" class=\"\" data-field=\"marketCap\" data-pricehint=\"2\" data-symbol=\"TSLA\" data-test=\"colorChange\" data-trend=\"none\" value=\"819143245824\">819.143B</fin-streamer></td><td aria-label=\"PE Ratio (TTM)\" class=\"Va(m) Ta(end) Pstart(20px) Fz(s)\" colspan=\"\">73.95</td><td aria-label=\"52 Week Range\" class=\"Va(m) Ta(end) Pstart(20px) Pend(6px) Fz(s)\" colspan=\"\"><canvas style=\"width:140px;height:23px\"></canvas></td></tr>]"
      ]
     },
     "execution_count": 14,
     "metadata": {},
     "output_type": "execute_result"
    }
   ],
   "source": [
    "tr_class_tags = doc.find_all('tr', class_='simpTblRow')\n",
    "tr_class_tags[:2]"
   ]
  },
  {
   "cell_type": "code",
   "execution_count": 15,
   "metadata": {},
   "outputs": [
    {
     "data": {
      "text/plain": [
       "100"
      ]
     },
     "execution_count": 15,
     "metadata": {},
     "output_type": "execute_result"
    }
   ],
   "source": [
    "len(tr_class_tags)"
   ]
  },
  {
   "cell_type": "markdown",
   "metadata": {},
   "source": [
    "We have the correct number of tr tags.\n",
    "\n",
    "Let's look at the first `tr_tag` which encompasses the stock `TSLA`\n"
   ]
  },
  {
   "cell_type": "code",
   "execution_count": 16,
   "metadata": {},
   "outputs": [],
   "source": [
    "tr_class_tags1 = tr_class_tags[0]\n"
   ]
  },
  {
   "cell_type": "markdown",
   "metadata": {},
   "source": [
    "If we look within the first `tr_tag` in the image below, we can see that each element of the stock is within a `td_tag`. We are going to extract these tags\n",
    "\n",
    "\n",
    "![3](https://i.postimg.cc/CxL1qNZY/2.jpg)"
   ]
  },
  {
   "cell_type": "code",
   "execution_count": 17,
   "metadata": {},
   "outputs": [
    {
     "data": {
      "text/plain": [
       "[<td aria-label=\"Symbol\" class=\"Va(m) Ta(start) Pstart(6px) Pend(10px) Miw(90px) Start(0) Pend(10px) simpTblRow:h_Bgc($hoverBgColor) Pos(st) Bgc($lv3BgColor) Z(1) Bgc($lv2BgColor) Ta(start)! Fz(s)\" colspan=\"\"><label class=\"Ta(c) Pos(r) Va(tb) Pend(5px) D(n)--print\" data-id=\"portfolio-checkbox\"><input aria-label=\"Select APE\" class=\"Pos(a) Op(0) checkbox\" type=\"checkbox\"/><svg class=\"Va(m)! H(16px) W(16px) checkbox:f+Stk($linkColor)! checkbox:f+Fill($linkColor)! Stk($plusGray) Fill($plusGray) Cur(p)\" data-icon=\"checkbox-unchecked\" height=\"16\" style=\"stroke-width:0;vertical-align:bottom\" viewbox=\"0 0 24 24\" width=\"16\"><path d=\"M3 3h18v18H3V3zm19-2H2c-.553 0-1 .448-1 1v20c0 .552.447 1 1 1h20c.552 0 1-.448 1-1V2c0-.552-.448-1-1-1z\"></path></svg></label><a class=\"Fw(600) C($linkColor)\" data-test=\"quoteLink\" href=\"/quote/APE?p=APE\" title=\"AMC Entertainment Holdings, Inc.\">APE</a><div class=\"W(3px) Pos(a) Start(100%) T(0) H(100%) Bg($pfColumnFakeShadowGradient) Pe(n) Pend(5px)\"></div></td>]"
      ]
     },
     "execution_count": 17,
     "metadata": {},
     "output_type": "execute_result"
    }
   ],
   "source": [
    "td_tag = tr_class_tags1.find_all('td')\n",
    "td_tag[:1]"
   ]
  },
  {
   "cell_type": "markdown",
   "metadata": {},
   "source": [
    "We can see that the stock ticker is located within the `a_tag`. Therefore we will extract that."
   ]
  },
  {
   "cell_type": "code",
   "execution_count": 18,
   "metadata": {},
   "outputs": [
    {
     "data": {
      "text/plain": [
       "[<a class=\"Fw(600) C($linkColor)\" data-test=\"quoteLink\" href=\"/quote/APE?p=APE\" title=\"AMC Entertainment Holdings, Inc.\">APE</a>]"
      ]
     },
     "execution_count": 18,
     "metadata": {},
     "output_type": "execute_result"
    }
   ],
   "source": [
    "a_tag = td_tag[0].find_all('a', recursive=False)\n",
    "a_tag"
   ]
  },
  {
   "cell_type": "markdown",
   "metadata": {},
   "source": [
    "## 4. Create a function to display information - 100 Most Active Stocks\n",
    "\n",
    "We'll now create a function that can parse a `tr_tag` and create a corresponding dictionary of all the stock information."
   ]
  },
  {
   "cell_type": "code",
   "execution_count": 19,
   "metadata": {},
   "outputs": [],
   "source": [
    "def parse_stocks(tr_class_tag_with_n):\n",
    "    # <td> tags contain all of the stocks info, <tr> tags contain all of the individual details, <a> tags contain exact content.\n",
    "\n",
    "    td_tag = tr_class_tag_with_n.find_all('td')\n",
    "    a_tag = td_tag[0].find('a', recursive=False)\n",
    "    #Stock ticker\n",
    "    ticker_name = a_tag.text.strip()\n",
    "    # Stock Name\n",
    "    name_tag = td_tag[1].text.replace(',',\"\")\n",
    "    # Last Price of stock\n",
    "    price_tag = float(td_tag[2].text)\n",
    "    # Stock change\n",
    "    daily_change_tag = td_tag[3].text\n",
    "    # Percentage Change\n",
    "    daily_percentage_change_tag = td_tag[4].text\n",
    "    # Volume\n",
    "    volume_tag = td_tag[5].text\n",
    "\n",
    "    # Return a dictionary\n",
    "    return {\n",
    "        'Stock ticker' : ticker_name,\n",
    "        'Stock name' : name_tag,\n",
    "        'Last price of stock' : price_tag,\n",
    "        'Stock change' : daily_change_tag,\n",
    "        'Stock percentage change' : daily_percentage_change_tag,\n",
    "        'Volume' : volume_tag,\n",
    "\n",
    "    }\n"
   ]
  },
  {
   "cell_type": "markdown",
   "metadata": {},
   "source": [
    "Let's apply our function to the first stock on the list, TSLA."
   ]
  },
  {
   "cell_type": "code",
   "execution_count": 20,
   "metadata": {},
   "outputs": [
    {
     "data": {
      "text/plain": [
       "{'Stock ticker': 'APE',\n",
       " 'Stock name': 'AMC Entertainment Holdings Inc.',\n",
       " 'Last price of stock': 1.42,\n",
       " 'Stock change': '-0.3100',\n",
       " 'Stock percentage change': '-17.92%',\n",
       " 'Volume': '134.39M'}"
      ]
     },
     "execution_count": 20,
     "metadata": {},
     "output_type": "execute_result"
    }
   ],
   "source": [
    "parse_stocks(tr_class_tags[0])"
   ]
  },
  {
   "cell_type": "markdown",
   "metadata": {},
   "source": [
    "We will now create a fucntion that utilizes list comprehension to parse the stock information for all of our stocks at once."
   ]
  },
  {
   "cell_type": "code",
   "execution_count": 21,
   "metadata": {},
   "outputs": [
    {
     "data": {
      "text/plain": [
       "[{'Stock ticker': 'APE',\n",
       "  'Stock name': 'AMC Entertainment Holdings Inc.',\n",
       "  'Last price of stock': 1.42,\n",
       "  'Stock change': '-0.3100',\n",
       "  'Stock percentage change': '-17.92%',\n",
       "  'Volume': '134.39M'},\n",
       " {'Stock ticker': 'TSLA',\n",
       "  'Stock name': 'Tesla Inc.',\n",
       "  'Last price of stock': 258.08,\n",
       "  'Stock change': '+1.18',\n",
       "  'Stock percentage change': '+0.46%',\n",
       "  'Volume': '107.491M'},\n",
       " {'Stock ticker': 'PLTR',\n",
       "  'Stock name': 'Palantir Technologies Inc.',\n",
       "  'Last price of stock': 14.98,\n",
       "  'Stock change': '-1.35',\n",
       "  'Stock percentage change': '-8.27%',\n",
       "  'Volume': '100.795M'}]"
      ]
     },
     "execution_count": 21,
     "metadata": {},
     "output_type": "execute_result"
    }
   ],
   "source": [
    "most_active_stocks = [parse_stocks(x) for  x in tr_class_tags]\n",
    "most_active_stocks[:3]"
   ]
  },
  {
   "cell_type": "markdown",
   "metadata": {},
   "source": [
    "## 5. Create a CSV of the parsed information - 100 most Active Stocks\n",
    "\n",
    "We can write a function that creates a CSV file from our parsed information."
   ]
  },
  {
   "cell_type": "code",
   "execution_count": 22,
   "metadata": {},
   "outputs": [],
   "source": [
    "def write_csv(items, filename):\n",
    "    with open(filename, 'w') as f:\n",
    "        if len(items) == 0:\n",
    "            return \n",
    "        headers = list(items[0].keys())\n",
    "        f.write(','.join(headers) + '\\n')\n",
    "\n",
    "        for item in items:\n",
    "            values = []\n",
    "            for header in headers:\n",
    "                values.append(str(item.get(header, \"\")))\n",
    "            f.write(','.join(values) + '\\n')"
   ]
  },
  {
   "cell_type": "code",
   "execution_count": 23,
   "metadata": {},
   "outputs": [],
   "source": [
    "write_csv(most_active_stocks, \"most-active-stocks.csv\")"
   ]
  },
  {
   "cell_type": "markdown",
   "metadata": {},
   "source": [
    "Let's display our csv document with the help of pandas library"
   ]
  },
  {
   "cell_type": "code",
   "execution_count": 24,
   "metadata": {},
   "outputs": [],
   "source": [
    "import pandas as pd"
   ]
  },
  {
   "cell_type": "code",
   "execution_count": 25,
   "metadata": {},
   "outputs": [
    {
     "data": {
      "text/html": [
       "<div>\n",
       "<style scoped>\n",
       "    .dataframe tbody tr th:only-of-type {\n",
       "        vertical-align: middle;\n",
       "    }\n",
       "\n",
       "    .dataframe tbody tr th {\n",
       "        vertical-align: top;\n",
       "    }\n",
       "\n",
       "    .dataframe thead th {\n",
       "        text-align: right;\n",
       "    }\n",
       "</style>\n",
       "<table border=\"1\" class=\"dataframe\">\n",
       "  <thead>\n",
       "    <tr style=\"text-align: right;\">\n",
       "      <th></th>\n",
       "      <th>Stock ticker</th>\n",
       "      <th>Stock name</th>\n",
       "      <th>Last price of stock</th>\n",
       "      <th>Stock change</th>\n",
       "      <th>Stock percentage change</th>\n",
       "      <th>Volume</th>\n",
       "    </tr>\n",
       "  </thead>\n",
       "  <tbody>\n",
       "    <tr>\n",
       "      <th>0</th>\n",
       "      <td>APE</td>\n",
       "      <td>AMC Entertainment Holdings Inc.</td>\n",
       "      <td>1.42</td>\n",
       "      <td>-0.31</td>\n",
       "      <td>-17.92%</td>\n",
       "      <td>134.39M</td>\n",
       "    </tr>\n",
       "    <tr>\n",
       "      <th>1</th>\n",
       "      <td>TSLA</td>\n",
       "      <td>Tesla Inc.</td>\n",
       "      <td>258.08</td>\n",
       "      <td>1.18</td>\n",
       "      <td>+0.46%</td>\n",
       "      <td>107.491M</td>\n",
       "    </tr>\n",
       "    <tr>\n",
       "      <th>2</th>\n",
       "      <td>PLTR</td>\n",
       "      <td>Palantir Technologies Inc.</td>\n",
       "      <td>14.98</td>\n",
       "      <td>-1.35</td>\n",
       "      <td>-8.27%</td>\n",
       "      <td>100.795M</td>\n",
       "    </tr>\n",
       "    <tr>\n",
       "      <th>3</th>\n",
       "      <td>TLRY</td>\n",
       "      <td>Tilray Brands Inc.</td>\n",
       "      <td>2.96</td>\n",
       "      <td>0.30</td>\n",
       "      <td>+11.28%</td>\n",
       "      <td>89.162M</td>\n",
       "    </tr>\n",
       "    <tr>\n",
       "      <th>4</th>\n",
       "      <td>NU</td>\n",
       "      <td>Nu Holdings Ltd.</td>\n",
       "      <td>6.85</td>\n",
       "      <td>-0.19</td>\n",
       "      <td>-2.70%</td>\n",
       "      <td>49.902M</td>\n",
       "    </tr>\n",
       "  </tbody>\n",
       "</table>\n",
       "</div>"
      ],
      "text/plain": [
       "  Stock ticker                       Stock name  Last price of stock   \n",
       "0          APE  AMC Entertainment Holdings Inc.                 1.42  \\\n",
       "1         TSLA                       Tesla Inc.               258.08   \n",
       "2         PLTR       Palantir Technologies Inc.                14.98   \n",
       "3         TLRY               Tilray Brands Inc.                 2.96   \n",
       "4           NU                 Nu Holdings Ltd.                 6.85   \n",
       "\n",
       "   Stock change Stock percentage change    Volume  \n",
       "0         -0.31                 -17.92%   134.39M  \n",
       "1          1.18                  +0.46%  107.491M  \n",
       "2         -1.35                  -8.27%  100.795M  \n",
       "3          0.30                 +11.28%   89.162M  \n",
       "4         -0.19                  -2.70%   49.902M  "
      ]
     },
     "execution_count": 25,
     "metadata": {},
     "output_type": "execute_result"
    }
   ],
   "source": [
    "df = pd.read_csv('most-active-stocks.csv')\n",
    "df.head()"
   ]
  },
  {
   "cell_type": "code",
   "execution_count": 26,
   "metadata": {
    "scrolled": true
   },
   "outputs": [
    {
     "name": "stdout",
     "output_type": "stream",
     "text": [
      "<class 'pandas.core.frame.DataFrame'>\n",
      "RangeIndex: 100 entries, 0 to 99\n",
      "Data columns (total 6 columns):\n",
      " #   Column                   Non-Null Count  Dtype  \n",
      "---  ------                   --------------  -----  \n",
      " 0   Stock ticker             100 non-null    object \n",
      " 1   Stock name               100 non-null    object \n",
      " 2   Last price of stock      100 non-null    float64\n",
      " 3   Stock change             100 non-null    float64\n",
      " 4   Stock percentage change  100 non-null    object \n",
      " 5   Volume                   100 non-null    object \n",
      "dtypes: float64(2), object(4)\n",
      "memory usage: 4.8+ KB\n"
     ]
    }
   ],
   "source": [
    "df.info()"
   ]
  },
  {
   "cell_type": "code",
   "execution_count": 27,
   "metadata": {},
   "outputs": [
    {
     "data": {
      "image/png": "[encoded data removed]",
      "text/plain": [
       "<Figure size 640x480 with 1 Axes>"
      ]
     },
     "metadata": {},
     "output_type": "display_data"
    }
   ],
   "source": [
    "import matplotlib.pyplot as plt\n",
    "\n",
    "# Convert 'Volume' to integer for plotting\n",
    "# df['Volume'] = df['Volume'].str.replace('M', '').astype(int)\n",
    "\n",
    "# Top 10 most active stocks by volume\n",
    "top_10_active = df.head(10)\n",
    "\n",
    "plt.barh(top_10_active['Stock ticker'], top_10_active['Volume'])\n",
    "plt.xlabel('Volume')\n",
    "plt.ylabel('Stock Symbol')\n",
    "plt.title('Top 10 Most Active Stocks by Volume')\n",
    "plt.xticks(rotation=30, ha=\"right\")\n",
    "plt.show()\n"
   ]
  },
  {
   "cell_type": "code",
   "execution_count": null,
   "metadata": {},
   "outputs": [],
   "source": []
  }
 ],
 "metadata": {
  "kernelspec": {
   "display_name": "Python 3 (ipykernel)",
   "language": "python",
   "name": "python3"
  },
  "language_info": {
   "codemirror_mode": {
    "name": "ipython",
    "version": 3
   },
   "file_extension": ".py",
   "mimetype": "text/x-python",
   "name": "python",
   "nbconvert_exporter": "python",
   "pygments_lexer": "ipython3",
   "version": "3.10.9"
  },
  "vscode": {
   "interpreter": {
    "hash": "aee8b7b246df8f9039afb4144a1f6fd8d2ca17a180786b69acc140d282b71a49"
   }
  }
 },
 "nbformat": 4,
 "nbformat_minor": 2
}
